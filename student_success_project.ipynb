{
 "cells": [
  {
   "cell_type": "code",
   "execution_count": 1,
   "id": "de45430e",
   "metadata": {},
   "outputs": [
    {
     "name": "stdout",
     "output_type": "stream",
     "text": [
      "Sample Rows: \n",
      "   StudyHours  Attendance  PastScore Internet  SleepHours Passed\n",
      "0           2          60         40      Yes           5     No\n",
      "1           5          80         60       No           6    Yes\n",
      "2           8          90         75      Yes           8    Yes\n",
      "3           3          70         50      Yes           5     No\n",
      "4           7          85         70       No           7    Yes\n",
      "Dataset Shape: \n",
      "Rows : 20, Columns: 6\n",
      "Dataset Info: \n",
      "<class 'pandas.core.frame.DataFrame'>\n",
      "RangeIndex: 20 entries, 0 to 19\n",
      "Data columns (total 6 columns):\n",
      " #   Column      Non-Null Count  Dtype \n",
      "---  ------      --------------  ----- \n",
      " 0   StudyHours  20 non-null     int64 \n",
      " 1   Attendance  20 non-null     int64 \n",
      " 2   PastScore   20 non-null     int64 \n",
      " 3   Internet    20 non-null     object\n",
      " 4   SleepHours  20 non-null     int64 \n",
      " 5   Passed      20 non-null     object\n",
      "dtypes: int64(4), object(2)\n",
      "memory usage: 1.1+ KB\n",
      "None\n",
      "Summary Statistics: \n",
      "        StudyHours  Attendance  PastScore Internet  SleepHours Passed\n",
      "count    20.000000   20.000000  20.000000       20   20.000000     20\n",
      "unique         NaN         NaN        NaN        2         NaN      2\n",
      "top            NaN         NaN        NaN      Yes         NaN    Yes\n",
      "freq           NaN         NaN        NaN       11         NaN     11\n",
      "mean      5.150000   74.150000  59.350000      NaN    6.050000    NaN\n",
      "std       2.852054   17.372922  19.725151      NaN    2.038446    NaN\n",
      "min       1.000000   40.000000  25.000000      NaN    3.000000    NaN\n",
      "25%       2.750000   60.000000  43.750000      NaN    4.750000    NaN\n",
      "50%       5.500000   77.000000  62.500000      NaN    6.000000    NaN\n",
      "75%       7.250000   88.500000  72.750000      NaN    7.250000    NaN\n",
      "max      10.000000   99.000000  90.000000      NaN   10.000000    NaN\n",
      "Missing Values: \n",
      "StudyHours    0\n",
      "Attendance    0\n",
      "PastScore     0\n",
      "Internet      0\n",
      "SleepHours    0\n",
      "Passed        0\n",
      "dtype: int64\n"
     ]
    }
   ],
   "source": [
    "import pandas as pd\n",
    "import numpy as np\n",
    "import matplotlib.pyplot as plt\n",
    "\n",
    "df = pd.read_csv('student_success_dataset.csv')\n",
    "\n",
    "print('Sample Rows: ')\n",
    "print(df.head())\n",
    "\n",
    "print('Dataset Shape: ')\n",
    "print(f'Rows : {df.shape[0]}, Columns: {df.shape[1]}')\n",
    "\n",
    "print('Dataset Info: ')\n",
    "print(df.info())\n",
    "\n",
    "print('Summary Statistics: ')\n",
    "print(df.describe(include='all'))\n",
    "\n",
    "print('Missing Values: ')\n",
    "print(df.isnull().sum())"
   ]
  },
  {
   "cell_type": "code",
   "execution_count": 2,
   "id": "4b4f1a14",
   "metadata": {},
   "outputs": [
    {
     "name": "stdout",
     "output_type": "stream",
     "text": [
      "Missing Values in Each Column: \n",
      "StudyHours    0\n",
      "Attendance    0\n",
      "PastScore     0\n",
      "Internet      0\n",
      "SleepHours    0\n",
      "Passed        0\n",
      "dtype: int64\n",
      "After Encoding: \n",
      "   StudyHours  Attendance  PastScore  Internet  SleepHours  Passed\n",
      "0           2          60         40         1           5       0\n",
      "1           5          80         60         0           6       1\n",
      "2           8          90         75         1           8       1\n",
      "3           3          70         50         1           5       0\n",
      "4           7          85         70         0           7       1\n",
      "Datatypes: \n",
      "StudyHours    int64\n",
      "Attendance    int64\n",
      "PastScore     int64\n",
      "Internet      int32\n",
      "SleepHours    int64\n",
      "Passed        int32\n",
      "dtype: object\n"
     ]
    }
   ],
   "source": [
    "import pandas as pd\n",
    "from sklearn.preprocessing import LabelEncoder\n",
    "\n",
    "df = pd.read_csv('student_success_dataset.csv')\n",
    "\n",
    "print('Missing Values in Each Column: ')\n",
    "print(df.isnull().sum())\n",
    "\n",
    "le = LabelEncoder()\n",
    "df['Internet'] = le.fit_transform(df['Internet'])\n",
    "df['Passed'] = le.fit_transform(df['Passed'])\n",
    "\n",
    "print('After Encoding: ')\n",
    "print(df.head())\n",
    "\n",
    "print('Datatypes: ')\n",
    "print(df.dtypes)"
   ]
  },
  {
   "cell_type": "code",
   "execution_count": 4,
   "id": "fd204b6d",
   "metadata": {},
   "outputs": [
    {
     "name": "stdout",
     "output_type": "stream",
     "text": [
      "Collecting seaborn\n",
      "  Downloading seaborn-0.13.2-py3-none-any.whl.metadata (5.4 kB)\n",
      "Requirement already satisfied: numpy!=1.24.0,>=1.20 in c:\\users\\smkal\\appdata\\local\\packages\\pythonsoftwarefoundation.python.3.11_qbz5n2kfra8p0\\localcache\\local-packages\\python311\\site-packages (from seaborn) (1.26.4)\n",
      "Requirement already satisfied: pandas>=1.2 in c:\\users\\smkal\\appdata\\local\\packages\\pythonsoftwarefoundation.python.3.11_qbz5n2kfra8p0\\localcache\\local-packages\\python311\\site-packages (from seaborn) (2.1.4)\n",
      "Requirement already satisfied: matplotlib!=3.6.1,>=3.4 in c:\\users\\smkal\\appdata\\local\\packages\\pythonsoftwarefoundation.python.3.11_qbz5n2kfra8p0\\localcache\\local-packages\\python311\\site-packages (from seaborn) (3.10.1)\n",
      "Requirement already satisfied: contourpy>=1.0.1 in c:\\users\\smkal\\appdata\\local\\packages\\pythonsoftwarefoundation.python.3.11_qbz5n2kfra8p0\\localcache\\local-packages\\python311\\site-packages (from matplotlib!=3.6.1,>=3.4->seaborn) (1.3.1)\n",
      "Requirement already satisfied: cycler>=0.10 in c:\\users\\smkal\\appdata\\local\\packages\\pythonsoftwarefoundation.python.3.11_qbz5n2kfra8p0\\localcache\\local-packages\\python311\\site-packages (from matplotlib!=3.6.1,>=3.4->seaborn) (0.12.1)\n",
      "Requirement already satisfied: fonttools>=4.22.0 in c:\\users\\smkal\\appdata\\local\\packages\\pythonsoftwarefoundation.python.3.11_qbz5n2kfra8p0\\localcache\\local-packages\\python311\\site-packages (from matplotlib!=3.6.1,>=3.4->seaborn) (4.56.0)\n",
      "Requirement already satisfied: kiwisolver>=1.3.1 in c:\\users\\smkal\\appdata\\local\\packages\\pythonsoftwarefoundation.python.3.11_qbz5n2kfra8p0\\localcache\\local-packages\\python311\\site-packages (from matplotlib!=3.6.1,>=3.4->seaborn) (1.4.8)\n",
      "Requirement already satisfied: packaging>=20.0 in c:\\users\\smkal\\appdata\\local\\packages\\pythonsoftwarefoundation.python.3.11_qbz5n2kfra8p0\\localcache\\local-packages\\python311\\site-packages (from matplotlib!=3.6.1,>=3.4->seaborn) (24.2)\n",
      "Requirement already satisfied: pillow>=8 in c:\\users\\smkal\\appdata\\local\\packages\\pythonsoftwarefoundation.python.3.11_qbz5n2kfra8p0\\localcache\\local-packages\\python311\\site-packages (from matplotlib!=3.6.1,>=3.4->seaborn) (11.1.0)\n",
      "Requirement already satisfied: pyparsing>=2.3.1 in c:\\users\\smkal\\appdata\\local\\packages\\pythonsoftwarefoundation.python.3.11_qbz5n2kfra8p0\\localcache\\local-packages\\python311\\site-packages (from matplotlib!=3.6.1,>=3.4->seaborn) (3.2.1)\n",
      "Requirement already satisfied: python-dateutil>=2.7 in c:\\users\\smkal\\appdata\\local\\packages\\pythonsoftwarefoundation.python.3.11_qbz5n2kfra8p0\\localcache\\local-packages\\python311\\site-packages (from matplotlib!=3.6.1,>=3.4->seaborn) (2.9.0.post0)\n",
      "Requirement already satisfied: pytz>=2020.1 in c:\\users\\smkal\\appdata\\local\\packages\\pythonsoftwarefoundation.python.3.11_qbz5n2kfra8p0\\localcache\\local-packages\\python311\\site-packages (from pandas>=1.2->seaborn) (2025.1)\n",
      "Requirement already satisfied: tzdata>=2022.1 in c:\\users\\smkal\\appdata\\local\\packages\\pythonsoftwarefoundation.python.3.11_qbz5n2kfra8p0\\localcache\\local-packages\\python311\\site-packages (from pandas>=1.2->seaborn) (2025.1)\n",
      "Requirement already satisfied: six>=1.5 in c:\\users\\smkal\\appdata\\local\\packages\\pythonsoftwarefoundation.python.3.11_qbz5n2kfra8p0\\localcache\\local-packages\\python311\\site-packages (from python-dateutil>=2.7->matplotlib!=3.6.1,>=3.4->seaborn) (1.17.0)\n",
      "Downloading seaborn-0.13.2-py3-none-any.whl (294 kB)\n",
      "   ---------------------------------------- 0.0/294.9 kB ? eta -:--:--\n",
      "   ---------------------------------------- 0.0/294.9 kB ? eta -:--:--\n",
      "   ---- ---------------------------------- 30.7/294.9 kB 660.6 kB/s eta 0:00:01\n",
      "   ------------- ------------------------ 102.4/294.9 kB 991.0 kB/s eta 0:00:01\n",
      "   ---------------------------------------- 294.9/294.9 kB 2.6 MB/s eta 0:00:00\n",
      "Installing collected packages: seaborn\n",
      "Successfully installed seaborn-0.13.2\n"
     ]
    },
    {
     "name": "stderr",
     "output_type": "stream",
     "text": [
      "\n",
      "[notice] A new release of pip is available: 24.0 -> 25.2\n",
      "[notice] To update, run: C:\\Users\\smkal\\AppData\\Local\\Microsoft\\WindowsApps\\PythonSoftwareFoundation.Python.3.11_qbz5n2kfra8p0\\python.exe -m pip install --upgrade pip\n"
     ]
    }
   ],
   "source": [
    "import sys\n",
    "!{sys.executable} -m pip install seaborn"
   ]
  },
  {
   "cell_type": "code",
   "execution_count": 12,
   "id": "b032cc0b",
   "metadata": {},
   "outputs": [
    {
     "name": "stdout",
     "output_type": "stream",
     "text": [
      "Classification Report\n",
      "              precision    recall  f1-score   support\n",
      "\n",
      "           0       1.00      1.00      1.00         1\n",
      "           1       1.00      1.00      1.00         3\n",
      "\n",
      "    accuracy                           1.00         4\n",
      "   macro avg       1.00      1.00      1.00         4\n",
      "weighted avg       1.00      1.00      1.00         4\n",
      "\n"
     ]
    },
    {
     "data": {
      "image/png": "[encoded data removed]",
      "text/plain": [
       "<Figure size 600x400 with 2 Axes>"
      ]
     },
     "metadata": {},
     "output_type": "display_data"
    },
    {
     "name": "stdout",
     "output_type": "stream",
     "text": [
      "----------Predict Your Result----------\n",
      "Prediction based on your input: Pass\n"
     ]
    },
    {
     "name": "stderr",
     "output_type": "stream",
     "text": [
      "C:\\Users\\smkal\\AppData\\Local\\Packages\\PythonSoftwareFoundation.Python.3.11_qbz5n2kfra8p0\\LocalCache\\local-packages\\Python311\\site-packages\\sklearn\\utils\\validation.py:2739: UserWarning: X does not have valid feature names, but LogisticRegression was fitted with feature names\n",
      "  warnings.warn(\n"
     ]
    }
   ],
   "source": [
    "import pandas as pd\n",
    "import numpy as np\n",
    "from sklearn.preprocessing import StandardScaler, LabelEncoder\n",
    "from sklearn.model_selection import train_test_split\n",
    "from sklearn.linear_model import LogisticRegression\n",
    "from sklearn.metrics import classification_report, confusion_matrix\n",
    "import matplotlib.pyplot as plt\n",
    "import seaborn as sns\n",
    "\n",
    "df = pd.read_csv('student_success_dataset.csv')\n",
    "\n",
    "le = LabelEncoder()\n",
    "df['Internet'] = le.fit_transform(df['Internet'])\n",
    "df['Passed'] = le.fit_transform(df['Passed'])\n",
    "\n",
    "features = ['StudyHours', 'Attendance', 'PastScore', 'SleepHours']\n",
    "scaler = StandardScaler()\n",
    "df_scaled = df.copy()\n",
    "df_scaled[features] = scaler.fit_transform(df[features])\n",
    "\n",
    "X = df_scaled[features]\n",
    "y = df_scaled['Passed']\n",
    "\n",
    "X_train, X_test, y_train, y_test = train_test_split(X, y, test_size=0.2, random_state=42)\n",
    "\n",
    "model = LogisticRegression()\n",
    "model.fit(X_train, y_train)\n",
    "\n",
    "y_pred = model.predict(X_test)\n",
    "\n",
    "print('Classification Report')\n",
    "print(classification_report(y_test, y_pred))\n",
    "\n",
    "conf_matrix = confusion_matrix(y_test, y_pred)\n",
    "plt.figure(figsize=(6, 4))\n",
    "sns.heatmap(conf_matrix, annot=True, fmt='d', cmap='Blues',\n",
    "            xticklabels=['Fail', 'Pass'],\n",
    "            yticklabels=['Fail', 'Pass'])\n",
    "plt.xlabel('Predicted')\n",
    "plt.ylabel('Actual')\n",
    "plt.title('Confusion Matrix')\n",
    "plt.tight_layout()\n",
    "plt.show()\n",
    "\n",
    "print('----------Predict Your Result----------')\n",
    "try:\n",
    "    study_hours = float(input(\"Enter your study hours: \"))\n",
    "    attendance = float(input(\"Enter your attendance: \"))\n",
    "    past_score = float(input(\"Enter your past score: \"))\n",
    "    sleep_hours = float(input(\"Enter your sleep hours: \"))\n",
    "\n",
    "    user_input_df = pd.DataFrame([{\n",
    "        'StudyHours': study_hours,\n",
    "        'Attendance': attendance,\n",
    "        'PastScore': past_score,\n",
    "        'SleepHours': sleep_hours\n",
    "    }])\n",
    "\n",
    "    user_input_scaled = scaler.transform(user_input_df)\n",
    "\n",
    "    prediction = model.predict(user_input_scaled)[0]\n",
    "\n",
    "    result = 'Pass' if prediction == 1 else 'Fail'\n",
    "    print(f'Prediction based on your input: {result}')\n",
    "except Exception as e:\n",
    "    print('An error occurred', e)"
   ]
  }
 ],
 "metadata": {
  "kernelspec": {
   "display_name": "Python 3",
   "language": "python",
   "name": "python3"
  },
  "language_info": {
   "codemirror_mode": {
    "name": "ipython",
    "version": 3
   },
   "file_extension": ".py",
   "mimetype": "text/x-python",
   "name": "python",
   "nbconvert_exporter": "python",
   "pygments_lexer": "ipython3",
   "version": "3.11.9"
  }
 },
 "nbformat": 4,
 "nbformat_minor": 5
}
